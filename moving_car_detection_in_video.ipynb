{
  "nbformat": 4,
  "nbformat_minor": 0,
  "metadata": {
    "kernelspec": {
      "display_name": "Python 3",
      "language": "python",
      "name": "python3"
    },
    "language_info": {
      "codemirror_mode": {
        "name": "ipython",
        "version": 3
      },
      "file_extension": ".py",
      "mimetype": "text/x-python",
      "name": "python",
      "nbconvert_exporter": "python",
      "pygments_lexer": "ipython3",
      "version": "3.7.4"
    },
    "colab": {
      "name": "DL_MCT_scenario 2 file 1 (car detection).ipynb",
      "provenance": [],
      "include_colab_link": true
    }
  },
  "cells": [
    {
      "cell_type": "markdown",
      "metadata": {
        "id": "view-in-github",
        "colab_type": "text"
      },
      "source": [
        "<a href=\"https://colab.research.google.com/github/Nikhildhabu/detect_Moving_Cars_in_a_video/blob/main/moving_car_detection_in_video.ipynb\" target=\"_parent\"><img src=\"https://colab.research.google.com/assets/colab-badge.svg\" alt=\"Open In Colab\"/></a>"
      ]
    },
    {
      "cell_type": "code",
      "metadata": {
        "id": "TEtHRPw_bGmo"
      },
      "source": [
        "# Import dependencies\n",
        "import cv2 \n",
        "import numpy as np\n",
        "import matplotlib.pyplot as plt\n",
        "%matplotlib inline\n",
        "\n"
      ],
      "execution_count": null,
      "outputs": []
    },
    {
      "cell_type": "code",
      "metadata": {
        "id": "sbfCHrymbGm0"
      },
      "source": [
        "cap=cv2.VideoCapture('C:/Users/Saurabh/Downloads/required_files_zi8_y8xgj2b/Required Files/Ice Car.mp4')\n",
        "car_cascade = cv2.CascadeClassifier('C:/Users/Saurabh/Downloads/required_files_zi8_y8xgj2b/Required Files/cars.xml')"
      ],
      "execution_count": null,
      "outputs": []
    },
    {
      "cell_type": "code",
      "metadata": {
        "id": "FcLsI4aNbGm2"
      },
      "source": [
        "import cv2\n",
        "cars_cascade = cv2.CascadeClassifier('C:/Users/Saurabh/Downloads/required_files_zi8_y8xgj2b/Required Files/cars.xml')\n",
        "\n",
        "def detect_cars(frame):\n",
        "    cars = cars_cascade.detectMultiScale(frame, 1.20, 4)\n",
        "    for (x, y, w, h) in cars:\n",
        "        cv2.rectangle(frame, (x, y), (x+w,y+h), color=(0, 255, 0), thickness=2)\n",
        "    return frame\n",
        "\n",
        "def Simulator():\n",
        "    CarVideo = cv2.VideoCapture('C:/Users/Saurabh/Downloads/required_files_zi8_y8xgj2b/Required Files/Ice Car.mp4')\n",
        "    while CarVideo.isOpened():\n",
        "        ret, frame = CarVideo.read()\n",
        "        controlkey = cv2.waitKey(1)\n",
        "        if ret:        \n",
        "            cars_frame = detect_cars(frame)\n",
        "            cv2.imshow('frame', cars_frame)\n",
        "        else:\n",
        "            break\n",
        "        if controlkey == 27:\n",
        "            break\n",
        "\n",
        "    CarVideo.release()\n",
        "    cv2.destroyAllWindows()\n",
        "\n",
        "if __name__ == '__main__':\n",
        "    Simulator()"
      ],
      "execution_count": null,
      "outputs": []
    },
    {
      "cell_type": "code",
      "metadata": {
        "id": "mVl9jlDcbGm3"
      },
      "source": [
        ""
      ],
      "execution_count": null,
      "outputs": []
    }
  ]
}